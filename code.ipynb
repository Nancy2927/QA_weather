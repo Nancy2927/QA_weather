{
  "nbformat": 4,
  "nbformat_minor": 0,
  "metadata": {
    "colab": {
      "provenance": [],
      "authorship_tag": "ABX9TyOl4Vc74srVqGa2hf6c39Y9",
      "include_colab_link": true
    },
    "kernelspec": {
      "name": "python3",
      "display_name": "Python 3"
    },
    "language_info": {
      "name": "python"
    }
  },
  "cells": [
    {
      "cell_type": "markdown",
      "metadata": {
        "id": "view-in-github",
        "colab_type": "text"
      },
      "source": [
        "<a href=\"https://colab.research.google.com/github/Nancy2927/QA_weather/blob/main/code.ipynb\" target=\"_parent\"><img src=\"https://colab.research.google.com/assets/colab-badge.svg\" alt=\"Open In Colab\"/></a>"
      ]
    },
    {
      "cell_type": "code",
      "execution_count": 5,
      "metadata": {
        "colab": {
          "base_uri": "https://localhost:8080/"
        },
        "id": "yqzSVwQIEPOn",
        "outputId": "b2cd9f2f-4ffd-4007-a90d-df7a1ca5773f"
      },
      "outputs": [
        {
          "name": "stdout",
          "output_type": "stream",
          "text": [
            "Press any key 1,2,3 to continue or 0 to terminate 1\n",
            "Enter input in YYYY/MM/DD format 2019/03/27\n",
            "Average temperature for the day : 46.16\n",
            "Press another key 2\n",
            "Enter input in YYYY/MM/DD format 2019/03/27\n",
            "Average wind speed for the day : 0.26666666666666666\n",
            "Press another key 3\n",
            "Enter input in YYYY/MM/DD format 2019/03/27\n",
            "Average wind pressure for the day : 172.5136666666667\n",
            "Press another key 0\n"
          ]
        }
      ],
      "source": [
        "import requests\n",
        "from datetime import datetime\n",
        "\n",
        "def get_weather_data():\n",
        "    API_URL = 'https://samples.openweathermap.org/data/2.5/forecast/hourly?q=London,us&appid=b6907d289e10d714a6e88b30761fae22'\n",
        "    response = requests.get(API_URL)\n",
        "    if response.status_code == 200:\n",
        "        return response.json()[\"list\"]\n",
        "    else:\n",
        "        print(\"Error fetching weather data.\")\n",
        "        return None\n",
        "\n",
        "\n",
        "\n",
        "def convert_date(timestamp_str):\n",
        "    date = datetime.strptime(timestamp_str, '%Y-%m-%d %H:%M:%S')\n",
        "\n",
        "    # Format the datetime object to \"dd/mm/yyyy\" format\n",
        "    formatted_date = date.strftime('%Y/%m/%d')\n",
        "\n",
        "    return formatted_date\n",
        "\n",
        "def process_dates(data):\n",
        "    list_data = data\n",
        "    date_dict = {}\n",
        "    start_idx = -9999\n",
        "    for idx,record in enumerate(list_data):\n",
        "        if start_idx == -9999:\n",
        "            start_idx = idx\n",
        "\n",
        "        date_in_seconds = convert_date(record.get('dt_txt'))\n",
        "        date_dict[date_in_seconds] = (start_idx,idx)\n",
        "    return date_dict\n",
        "\n",
        "def get_data_func(data):\n",
        "    list_data = data\n",
        "    key = input(\"Press any key 1,2,3 to continue or 0 to terminate \")\n",
        "    date_dict = process_dates(list_data)\n",
        "    while True:\n",
        "\n",
        "        if key == '1':\n",
        "            date = input(\"Enter input in YYYY/MM/DD format \")\n",
        "            idx = date_dict.get(date,-1)\n",
        "\n",
        "            while idx == -1:\n",
        "                print(\"Enter another date \")\n",
        "                key = input()\n",
        "            else:\n",
        "                for i in range(idx[0],idx[1]):\n",
        "                    summ = list_data[i].get('main').get('temp')\n",
        "                print(f'Average temperature for the day : {summ/(idx[1]+1)}')\n",
        "        elif key == '2':\n",
        "            date = input(\"Enter input in YYYY/MM/DD format \")\n",
        "            idx = date_dict.get(date,-1)\n",
        "            while idx == -1:\n",
        "                print(\"Enter another date \")\n",
        "                key = input()\n",
        "            else:\n",
        "                for i in range(idx[0],idx[1]):\n",
        "                    summ = list_data[i].get('wind').get('speed')\n",
        "                print(f'Average wind speed for the day : {summ/(idx[1]+1)}')\n",
        "        elif key == '3':\n",
        "            date = input(\"Enter input in YYYY/MM/DD format \")\n",
        "            idx = date_dict.get(date,-1)\n",
        "            while idx == -1:\n",
        "                print(\"Enter another date \")\n",
        "                key = input()\n",
        "            else:\n",
        "                for i in range(idx[0],idx[1]):\n",
        "                    summ = list_data[i].get('main').get('pressure')\n",
        "                print(f'Average wind pressure for the day : {summ/(idx[1]+1)}')\n",
        "\n",
        "        elif key == '0':\n",
        "            break\n",
        "        else:\n",
        "            print(\"Press key 1 for average temperature for the day\")\n",
        "            print(\"Press key 2 for average wind speed for the day \")\n",
        "            print(\"Press key 3 for average wind pressure for the day\")\n",
        "            print(\"Press 0 to terminate \")\n",
        "        key = input('Press another key ')\n",
        "\n",
        "\n",
        "data = get_weather_data()\n",
        "get_data_func(data)"
      ]
    }
  ]
}